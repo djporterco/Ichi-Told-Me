{
 "cells": [
  {
   "cell_type": "markdown",
   "metadata": {},
   "source": [
    "# Ichi Told Me\n",
    "\n",
    "### Assumptions:\n",
    "\n",
    "It is difficult to catch every top and bottom of a market.\n",
    ">That is where the smart money is shaking out the weak hands.           https://www.youtube.com/watch?v=TzKQwttv9IA\n",
    "\n",
    "Ichimoku is a full fleged trading system.\n",
    ">The cloud system is designed to capturing 80% of price movements (I.e. 80/20 rule)\n",
    "https://www.linkedin.com/pulse/ichimoku-cloud-jonathan-camphin/\n",
    "\n",
    "Rebalancing preforms ~63% better than HODL on trending and ranging markets.\n",
    "\n",
    "AND\n",
    ">Rebalancing once every hour resulted in a median portfolio performance boost of 94% over buy-and-hold. 83.0% of all portfolios which used hourly rebalances performed better than buy-and-hold.\n",
    "https://blog.shrimpy.io/blog/cryptocurrency-portfolio-rebalancing-bittrex-analysis\n",
    "\n",
    "AND\n",
    "\n",
    ">A 15% threshold rebalance outperformed HODL by 305%.\n",
    "https://blog.shrimpy.io/blog/the-best-threshold-for-cryptocurrency-rebalancing-strategies\n",
    "\n",
    "### Goal:\n",
    "\n",
    "__Identify strong to medium Ichimoku signals on a 1 hour timeframe to create dynamic portfolios that can be rebalanced hourly or at a percent deviation threshold on https://www.shrimpy.io/.__\n",
    "\n",
    "### Tools:\n",
    "\n",
    "#### Languages: \n",
    "Python\n",
    "\n",
    "#### Visuals:\n",
    "DASH by Plotly https://dash.plot.ly\n",
    "\n",
    "#### APIs: \n",
    "Shrimpy Developer API  https://developers.shrimpy.io/docs/#introduction\n",
    "\n",
    "#### Deployment:\n",
    "[DigitalOcean](https://www.digitalocean.com/) or [Vultr](https://www.vultr.com/) servers."
   ]
  },
  {
   "cell_type": "markdown",
   "metadata": {},
   "source": [
    "____"
   ]
  },
  {
   "cell_type": "markdown",
   "metadata": {},
   "source": [
    "## RULES\n",
    "\n",
    "These rules are more conservative than most and are designed to nearly eliminate false\n",
    "signals.\n",
    "\n",
    "https://www.youtube.com/watch?v=X5lxBTrN-Yk&t=1318s\n",
    "\n",
    "    CLOSE ABOVE CLOUD\n",
    "    Close > Kijun_Sen & Close > Tenkan_Sen \n",
    "    \n",
    "    CONVERSION LINE IS GREATER THAN BASE LINE\n",
    "    Tenkan_Sen > Kijun_Sen\n",
    "    \n",
    "    *KEY\n",
    "    CLOUD AHEAD IS BULLISH (GREEN) *look displacement ahead\n",
    "    cloud.shift(displacement) == green \n",
    "    \n",
    "    *KEY\n",
    "    LAGGIN SPAN IS GREATER OR CROSSES ABOVE CLOUD  *look displacement behind\n",
    "    Chikou_Span > cloud.shift(-displacement)"
   ]
  },
  {
   "cell_type": "markdown",
   "metadata": {},
   "source": [
    "____"
   ]
  },
  {
   "cell_type": "code",
   "execution_count": 1,
   "metadata": {},
   "outputs": [],
   "source": [
    "# imports\n",
    "import numpy as np\n",
    "from pandas import DataFrame, Series\n",
    "import math\n",
    "\n",
    "import json\n",
    "import requests\n",
    "import pandas as pd\n",
    "from pandas.io.json import json_normalize\n",
    "\n",
    "import decimal\n",
    "from datetime import datetime, timedelta\n",
    "import matplotlib.ticker as ticker\n",
    "import matplotlib.dates as mdates\n",
    "from mpl_finance import candlestick_ohlc\n",
    "import matplotlib.pyplot as plt"
   ]
  },
  {
   "cell_type": "markdown",
   "metadata": {},
   "source": [
    "## Get Supported Exchanges\n",
    "Only required when scaling to other exchanges."
   ]
  },
  {
   "cell_type": "code",
   "execution_count": 2,
   "metadata": {},
   "outputs": [],
   "source": [
    "# HTTP Request\n",
    "# GET https://dev-api.shrimpy.io/v1/list_exchanges\n",
    "\n",
    "def list_exchanges():\n",
    "    \n",
    "    \"\"\"This endpoint retrieves all Shrimpy supported exchanges\n",
    "    and some basic information about each.\n",
    "    \n",
    "    :return: pandas.DataFrame\n",
    "    \"\"\"\n",
    "    res = requests.get(\"https://dev-api.shrimpy.io/v1/list_exchanges\")\n",
    "    return json_normalize(res.json())"
   ]
  },
  {
   "cell_type": "code",
   "execution_count": 3,
   "metadata": {},
   "outputs": [
    {
     "data": {
      "text/html": [
       "<div>\n",
       "<style scoped>\n",
       "    .dataframe tbody tr th:only-of-type {\n",
       "        vertical-align: middle;\n",
       "    }\n",
       "\n",
       "    .dataframe tbody tr th {\n",
       "        vertical-align: top;\n",
       "    }\n",
       "\n",
       "    .dataframe thead th {\n",
       "        text-align: right;\n",
       "    }\n",
       "</style>\n",
       "<table border=\"1\" class=\"dataframe\">\n",
       "  <thead>\n",
       "    <tr style=\"text-align: right;\">\n",
       "      <th></th>\n",
       "      <th>bestCaseFee</th>\n",
       "      <th>exchange</th>\n",
       "      <th>icon</th>\n",
       "      <th>worstCaseFee</th>\n",
       "    </tr>\n",
       "  </thead>\n",
       "  <tbody>\n",
       "    <tr>\n",
       "      <th>0</th>\n",
       "      <td>0.000150</td>\n",
       "      <td>binance</td>\n",
       "      <td>https://assets.shrimpy.io/exchanges/binance.png</td>\n",
       "      <td>0.0010</td>\n",
       "    </tr>\n",
       "    <tr>\n",
       "      <th>1</th>\n",
       "      <td>0.002500</td>\n",
       "      <td>bittrex</td>\n",
       "      <td>https://assets.shrimpy.io/exchanges/bittrex.png</td>\n",
       "      <td>0.0025</td>\n",
       "    </tr>\n",
       "    <tr>\n",
       "      <th>2</th>\n",
       "      <td>0.002500</td>\n",
       "      <td>bittrexinternational</td>\n",
       "      <td>https://assets.shrimpy.io/exchanges/bittrexint...</td>\n",
       "      <td>0.0025</td>\n",
       "    </tr>\n",
       "    <tr>\n",
       "      <th>3</th>\n",
       "      <td>0.000125</td>\n",
       "      <td>kucoin</td>\n",
       "      <td>https://assets.shrimpy.io/exchanges/kucoin.png</td>\n",
       "      <td>0.0010</td>\n",
       "    </tr>\n",
       "    <tr>\n",
       "      <th>4</th>\n",
       "      <td>0.000000</td>\n",
       "      <td>coinbasepro</td>\n",
       "      <td>https://assets.shrimpy.io/exchanges/coinbasepr...</td>\n",
       "      <td>0.0030</td>\n",
       "    </tr>\n",
       "  </tbody>\n",
       "</table>\n",
       "</div>"
      ],
      "text/plain": [
       "   bestCaseFee              exchange  \\\n",
       "0     0.000150               binance   \n",
       "1     0.002500               bittrex   \n",
       "2     0.002500  bittrexinternational   \n",
       "3     0.000125                kucoin   \n",
       "4     0.000000           coinbasepro   \n",
       "\n",
       "                                                icon  worstCaseFee  \n",
       "0    https://assets.shrimpy.io/exchanges/binance.png        0.0010  \n",
       "1    https://assets.shrimpy.io/exchanges/bittrex.png        0.0025  \n",
       "2  https://assets.shrimpy.io/exchanges/bittrexint...        0.0025  \n",
       "3     https://assets.shrimpy.io/exchanges/kucoin.png        0.0010  \n",
       "4  https://assets.shrimpy.io/exchanges/coinbasepr...        0.0030  "
      ]
     },
     "execution_count": 3,
     "metadata": {},
     "output_type": "execute_result"
    }
   ],
   "source": [
    "list_exchanges().head()"
   ]
  },
  {
   "cell_type": "markdown",
   "metadata": {},
   "source": [
    "## Get Trading Pairs\n",
    "\n",
    "Pick and exchange to start with.\n",
    "Binance is popular and has a lot of trading volume and pairs.\n",
    "However, Binance like someother exchanges, will discontinue service to US customers soon.\n",
    "https://www.theblockcrypto.com/2019/06/14/us-customers-to-be-blocked-from-trading-on-binance-com/"
   ]
  },
  {
   "cell_type": "code",
   "execution_count": 4,
   "metadata": {},
   "outputs": [],
   "source": [
    "# HTTP Request\n",
    "# GET https://dev-api.shrimpy.io/v1/exchanges/<exchange>/trading_pairs\n",
    "\n",
    "def trading_pairs(exchange):\n",
    "    \n",
    "    \"\"\"This endpoint retrieves a list of active trading pairs for a particular exchange.\n",
    "    The symbols will match the tradingSymbol from Get Exchange Assets as well as the\n",
    "    symbol used by the exchange.\n",
    "    \n",
    "    :param exchange: string ex: 'Bittrex', 'Coinbase'\n",
    "    :return: pandas.DataFrame\n",
    "    \"\"\"\n",
    "    response = requests.get(f\"https://dev-api.shrimpy.io/v1/exchanges/{exchange}/trading_pairs\")\n",
    "    return json_normalize(response.json())"
   ]
  },
  {
   "cell_type": "code",
   "execution_count": 5,
   "metadata": {},
   "outputs": [
    {
     "data": {
      "text/html": [
       "<div>\n",
       "<style scoped>\n",
       "    .dataframe tbody tr th:only-of-type {\n",
       "        vertical-align: middle;\n",
       "    }\n",
       "\n",
       "    .dataframe tbody tr th {\n",
       "        vertical-align: top;\n",
       "    }\n",
       "\n",
       "    .dataframe thead th {\n",
       "        text-align: right;\n",
       "    }\n",
       "</style>\n",
       "<table border=\"1\" class=\"dataframe\">\n",
       "  <thead>\n",
       "    <tr style=\"text-align: right;\">\n",
       "      <th></th>\n",
       "      <th>baseTradingSymbol</th>\n",
       "      <th>quoteTradingSymbol</th>\n",
       "    </tr>\n",
       "  </thead>\n",
       "  <tbody>\n",
       "    <tr>\n",
       "      <th>0</th>\n",
       "      <td>ETH</td>\n",
       "      <td>BTC</td>\n",
       "    </tr>\n",
       "    <tr>\n",
       "      <th>1</th>\n",
       "      <td>LTC</td>\n",
       "      <td>BTC</td>\n",
       "    </tr>\n",
       "    <tr>\n",
       "      <th>2</th>\n",
       "      <td>BNB</td>\n",
       "      <td>BTC</td>\n",
       "    </tr>\n",
       "    <tr>\n",
       "      <th>3</th>\n",
       "      <td>NEO</td>\n",
       "      <td>BTC</td>\n",
       "    </tr>\n",
       "    <tr>\n",
       "      <th>4</th>\n",
       "      <td>QTUM</td>\n",
       "      <td>ETH</td>\n",
       "    </tr>\n",
       "  </tbody>\n",
       "</table>\n",
       "</div>"
      ],
      "text/plain": [
       "  baseTradingSymbol quoteTradingSymbol\n",
       "0               ETH                BTC\n",
       "1               LTC                BTC\n",
       "2               BNB                BTC\n",
       "3               NEO                BTC\n",
       "4              QTUM                ETH"
      ]
     },
     "execution_count": 5,
     "metadata": {},
     "output_type": "execute_result"
    }
   ],
   "source": [
    "trading_pairs('binance').head()"
   ]
  },
  {
   "cell_type": "markdown",
   "metadata": {},
   "source": [
    "## Get Candles"
   ]
  },
  {
   "cell_type": "code",
   "execution_count": 6,
   "metadata": {},
   "outputs": [],
   "source": [
    "# HTTP Request\n",
    "# GET https://dev-api.shrimpy.io/v1/exchanges/<exchange>/candles\n",
    "\n",
    "def candles(exchange, quoteTradingSymbol, baseTradingSymbol, interval):\n",
    "    \n",
    "    \"\"\"This endpoint retrieves live candlestick data.\n",
    "\n",
    "    When retrieving candlestick data for plotting, first call the endpoint without \n",
    "    specifying a startTime. This will return data associated with the most recent \n",
    "    1000 candlesticks. Subsequently, periodically call the endpoint specifying the \n",
    "    startTime as the time associated with the most recent candlestick. Note that the \n",
    "    last or most recent candlestick is for the current, not-yet-committed frame.\n",
    "    \n",
    "    :param exchange: string: The exchange for which to retrieve candlestick data.\n",
    "    :param baseTradingSymbol: string: The base symbol of a pair on the exchange. \n",
    "        (e.g. XLM for a XLM-BTC pair)\n",
    "    :param quoteTradingSymbol: string: The quote symbol of a pair on the exchange. \n",
    "        (e.g. BTC for a XLM-BTC pair)\n",
    "    :param interval: string: The interval must be one of the following values: \n",
    "        1m, 5m, 15m, 1h, 6h, or 1d) These values correspond to intervals representing \n",
    "        one minute, five minutes, fifteen minutes, one hour, six hours, and one day, \n",
    "        respectively.\n",
    "    :param startTime (optional): Date Optionally only return data on or after the \n",
    "        supplied startTime (inclusive).\n",
    "    \n",
    "    :return: pandas.DataFrame\n",
    "    \n",
    "    \"\"\"\n",
    "    \n",
    "    response = requests.get(f\"https://dev-api.shrimpy.io/v1/exchanges/{exchange}/candles?quoteTradingSymbol={quoteTradingSymbol}&baseTradingSymbol={baseTradingSymbol}&interval={interval}\")\n",
    "    return json_normalize(response.json())"
   ]
  },
  {
   "cell_type": "code",
   "execution_count": 44,
   "metadata": {},
   "outputs": [],
   "source": [
    "df = candles('binance', 'USDT', 'BTC', '1h')"
   ]
  },
  {
   "cell_type": "code",
   "execution_count": 45,
   "metadata": {},
   "outputs": [
    {
     "data": {
      "text/html": [
       "<div>\n",
       "<style scoped>\n",
       "    .dataframe tbody tr th:only-of-type {\n",
       "        vertical-align: middle;\n",
       "    }\n",
       "\n",
       "    .dataframe tbody tr th {\n",
       "        vertical-align: top;\n",
       "    }\n",
       "\n",
       "    .dataframe thead th {\n",
       "        text-align: right;\n",
       "    }\n",
       "</style>\n",
       "<table border=\"1\" class=\"dataframe\">\n",
       "  <thead>\n",
       "    <tr style=\"text-align: right;\">\n",
       "      <th></th>\n",
       "      <th>btcVolume</th>\n",
       "      <th>close</th>\n",
       "      <th>high</th>\n",
       "      <th>low</th>\n",
       "      <th>open</th>\n",
       "      <th>quoteVolume</th>\n",
       "      <th>time</th>\n",
       "      <th>usdVolume</th>\n",
       "      <th>volume</th>\n",
       "    </tr>\n",
       "  </thead>\n",
       "  <tbody>\n",
       "    <tr>\n",
       "      <th>0</th>\n",
       "      <td>816.491962</td>\n",
       "      <td>7966.6600000000000000</td>\n",
       "      <td>7996.0000000000000000</td>\n",
       "      <td>7934.3600000000000000</td>\n",
       "      <td>7964.8600000000000000</td>\n",
       "      <td>6.506649e+06</td>\n",
       "      <td>2019-05-25T00:00:00.000Z</td>\n",
       "      <td>6.506649e+06</td>\n",
       "      <td>816.5493680000000000</td>\n",
       "    </tr>\n",
       "    <tr>\n",
       "      <th>1</th>\n",
       "      <td>814.145003</td>\n",
       "      <td>8005.0200000000000000</td>\n",
       "      <td>8033.4800000000000000</td>\n",
       "      <td>7957.0600000000000000</td>\n",
       "      <td>7968.9400000000000000</td>\n",
       "      <td>6.516023e+06</td>\n",
       "      <td>2019-05-25T01:00:00.000Z</td>\n",
       "      <td>6.516023e+06</td>\n",
       "      <td>814.1089040000000000</td>\n",
       "    </tr>\n",
       "    <tr>\n",
       "      <th>2</th>\n",
       "      <td>526.264495</td>\n",
       "      <td>8009.9800000000000000</td>\n",
       "      <td>8012.4400000000000000</td>\n",
       "      <td>7970.6700000000000000</td>\n",
       "      <td>8004.6800000000000000</td>\n",
       "      <td>4.207625e+06</td>\n",
       "      <td>2019-05-25T02:00:00.000Z</td>\n",
       "      <td>4.207625e+06</td>\n",
       "      <td>526.2805760000000000</td>\n",
       "    </tr>\n",
       "    <tr>\n",
       "      <th>3</th>\n",
       "      <td>697.951093</td>\n",
       "      <td>7975.2900000000000000</td>\n",
       "      <td>8021.5400000000000000</td>\n",
       "      <td>7965.0000000000000000</td>\n",
       "      <td>8006.8800000000000000</td>\n",
       "      <td>5.577362e+06</td>\n",
       "      <td>2019-05-25T03:00:00.000Z</td>\n",
       "      <td>5.577362e+06</td>\n",
       "      <td>698.0021610000000000</td>\n",
       "    </tr>\n",
       "    <tr>\n",
       "      <th>4</th>\n",
       "      <td>516.521013</td>\n",
       "      <td>7985.8400000000000000</td>\n",
       "      <td>8013.8100000000000000</td>\n",
       "      <td>7972.7600000000000000</td>\n",
       "      <td>7976.9600000000000000</td>\n",
       "      <td>4.131324e+06</td>\n",
       "      <td>2019-05-25T04:00:00.000Z</td>\n",
       "      <td>4.131324e+06</td>\n",
       "      <td>516.5090330000000000</td>\n",
       "    </tr>\n",
       "  </tbody>\n",
       "</table>\n",
       "</div>"
      ],
      "text/plain": [
       "    btcVolume                  close                   high  \\\n",
       "0  816.491962  7966.6600000000000000  7996.0000000000000000   \n",
       "1  814.145003  8005.0200000000000000  8033.4800000000000000   \n",
       "2  526.264495  8009.9800000000000000  8012.4400000000000000   \n",
       "3  697.951093  7975.2900000000000000  8021.5400000000000000   \n",
       "4  516.521013  7985.8400000000000000  8013.8100000000000000   \n",
       "\n",
       "                     low                   open   quoteVolume  \\\n",
       "0  7934.3600000000000000  7964.8600000000000000  6.506649e+06   \n",
       "1  7957.0600000000000000  7968.9400000000000000  6.516023e+06   \n",
       "2  7970.6700000000000000  8004.6800000000000000  4.207625e+06   \n",
       "3  7965.0000000000000000  8006.8800000000000000  5.577362e+06   \n",
       "4  7972.7600000000000000  7976.9600000000000000  4.131324e+06   \n",
       "\n",
       "                       time     usdVolume                volume  \n",
       "0  2019-05-25T00:00:00.000Z  6.506649e+06  816.5493680000000000  \n",
       "1  2019-05-25T01:00:00.000Z  6.516023e+06  814.1089040000000000  \n",
       "2  2019-05-25T02:00:00.000Z  4.207625e+06  526.2805760000000000  \n",
       "3  2019-05-25T03:00:00.000Z  5.577362e+06  698.0021610000000000  \n",
       "4  2019-05-25T04:00:00.000Z  4.131324e+06  516.5090330000000000  "
      ]
     },
     "execution_count": 45,
     "metadata": {},
     "output_type": "execute_result"
    }
   ],
   "source": [
    "df.head()"
   ]
  },
  {
   "cell_type": "markdown",
   "metadata": {},
   "source": [
    "## Create Ichimoku data points\n",
    "\n",
    "Unique to the Ichimoku system is that part of the signal is projected ahead in time."
   ]
  },
  {
   "cell_type": "code",
   "execution_count": 46,
   "metadata": {},
   "outputs": [],
   "source": [
    "def calc_ichimoku(df, settings = 'crypto'): #, to_plot= False\n",
    "    \n",
    "    \"\"\"Calculates ichimoku cloud data points\n",
    "    \n",
    "    :param df: pandas.DataFrame: \n",
    "    :param settings: string: \n",
    "    \n",
    "    :return: pandas.DataFrame\n",
    "    \n",
    "    \"\"\"\n",
    "    \n",
    "#     set setting\n",
    "    if settings == 'double':\n",
    "        conversion_line_period = 40\n",
    "        base_line_period = 60\n",
    "        lagging_span_period = 120\n",
    "        displacement_period = base_line_period\n",
    "        \n",
    "    elif settings == 'standard':\n",
    "        conversion_line_period = 9\n",
    "        base_line_period = 26\n",
    "        lagging_span_period = 52\n",
    "        displacement_period = base_line_period\n",
    "\n",
    "    else :\n",
    "        conversion_line_period = 20\n",
    "        base_line_period = 30\n",
    "        lagging_span_period = 60\n",
    "        displacement_period = base_line_period\n",
    "        \n",
    "#     Calculate tenkan_sen\n",
    "#     df['tenkan_sen'] = (HighPriceMax(H, conversion_line_period) + LowPriceMin(L, conversion_line_period)) / 2\n",
    "    \n",
    "    conversion_high = df['high'].rolling(window= conversion_line_period).max()\n",
    "    conversion_low = df['low'].rolling(window= conversion_line_period).min()\n",
    "    df['tenkan_sen'] = (conversion_high + conversion_low) /2\n",
    "    \n",
    "#     Calculate kijun_sen\n",
    "#     df['kijun_sen'] = (HighPriceMax(H, base_line_period) + LowPriceMin(L, base_line_period)) / 2\n",
    "    \n",
    "    base_high = df['high'].rolling(window= base_line_period).max()\n",
    "    base_low = df['low'].rolling(window= base_line_period).min()\n",
    "    df['kijun_sen'] = (base_high + base_low) /2\n",
    "\n",
    "\n",
    "#     extend df into future displacement_period\n",
    "    last_index = df.iloc[-1:].index[0]\n",
    "    last_date = pd.to_datetime(df['time'],utc=True).iloc[-1]\n",
    "    for i in range(1,displacement_period + 1):\n",
    "        df.loc[last_index+1 +i, 'time'] = last_date + timedelta(hours=i)\n",
    "        \n",
    "#     calculate senkou_span_a\n",
    "    df['senkou_span_a'] = ((df['tenkan_sen'] + df['kijun_sen']) / 2).shift(displacement_period)\n",
    "\n",
    "#     calculate senkou_span_b\n",
    "#     df['senkou_span_b'] = ((HighPriceMax(H, lagging_span_period) + LowPriceMin(L, lagging_span_period)) / 2).shift(displacement_period)\n",
    "\n",
    "    lag_high = df['high'].rolling(window= lagging_span_period).max()\n",
    "    lag_low = df['low'].rolling(window= lagging_span_period).min()\n",
    "    df['senkou_span_b'] = ((lag_high + lag_low) /2).shift(displacement_period)\n",
    "    \n",
    "    \n",
    "#     calulate chikou_span\n",
    "    df['chikou_span'] = df['close'].shift(-displacement_period).apply(pd.to_numeric, errors='coerce') #sometimes -26 \n",
    "\n",
    "    # TODO\n",
    "    #     Edit fill to represent bullish (green) and bearish (red) clouds \n",
    "    #     between the leading spans.\n",
    "    \n",
    "#   tmp = df[['time','close','senkou_span_a','senkou_span_b','kijun_sen','tenkan_sen', 'chikou_span']]\n",
    "    \n",
    "    df['time'] = pd.to_datetime(df['time'],utc=True)\n",
    "    df['close'] = df['close'].apply(pd.to_numeric, errors='coerce')\n",
    "    \n",
    "#     tmp = df[['time','close','senkou_span_a','senkou_span_b','kijun_sen','tenkan_sen', 'chikou_span']].tail(300)\n",
    "    \n",
    "#     tmp.index = tmp['time']\n",
    "#     del tmp['time']\n",
    "    \n",
    "#     a1 = tmp.plot(figsize=(15,10))\n",
    "#     a1.fill_between(tmp.index, tmp.senkou_span_a, tmp.senkou_span_b);\n",
    "    \n",
    "    return df\n"
   ]
  },
  {
   "cell_type": "code",
   "execution_count": 47,
   "metadata": {
    "scrolled": true
   },
   "outputs": [],
   "source": [
    "# calc_ichimoku(df)"
   ]
  },
  {
   "cell_type": "markdown",
   "metadata": {},
   "source": [
    "## Set Rules"
   ]
  },
  {
   "cell_type": "code",
   "execution_count": 27,
   "metadata": {},
   "outputs": [],
   "source": [
    "# CLOSE ABOVE CLOUD\n",
    "# Close > Kijun_Sen & Close > Tenkan_Sen\n",
    "\n",
    "df['close_above_cloud'] = np.where((df['close'] > df['kijun_sen']) & (df['close'] > df['tenkan_sen']), 1, 0)\n",
    "\n",
    "# CONVERSION LINE IS GREATER THAN BASE LINE\n",
    "# Tenkan_Sen > Kijun_Sen\n",
    "\n",
    "df['t_above_k'] = np.where((df['tenkan_sen'] > df['kijun_sen']), 1, 0)\n",
    "\n",
    "\n",
    "# *KEY\n",
    "# CLOUD AHEAD IS BULLISH (GREEN) *look displacement ahead\n",
    "# cloud.shift(displacement) == green \n",
    "\n",
    "df['green_cloud_ahead'] = np.where((df['senkou_span_a'] > df['senkou_span_b']).shift(-60).apply(pd.to_numeric, downcast='integer'), 1, 0)\n",
    "\n",
    "# *KEY\n",
    "# LAGGIN SPAN IS GREATER OR CROSSES ABOVE CLOUD  *look displacement behind\n",
    "# Chikou_Span > cloud.shift(-displacement)\n",
    "\n",
    "df['chikou_span_breaks_cloud'] = np.where((df['chikou_span'].shift(30) > df['senkou_span_a'].shift(30)) & (df['chikou_span'].shift(30) > df['senkou_span_b'].shift(30)).apply(pd.to_numeric, downcast='integer'), 1, 0)\n",
    "\n",
    "# create trade condition feature\n",
    "df['trade'] = np.where((df['close_above_cloud'] == 1) & (df['t_above_k'] == 1) & (df['green_cloud_ahead'] == 1) & (df['chikou_span_breaks_cloud'] == 1), 1, 0)"
   ]
  },
  {
   "cell_type": "code",
   "execution_count": 39,
   "metadata": {},
   "outputs": [],
   "source": [
    "# df[-60:-20]"
   ]
  },
  {
   "cell_type": "code",
   "execution_count": 40,
   "metadata": {},
   "outputs": [],
   "source": [
    "#     tmp = df[['time','close','senkou_span_a','senkou_span_b','kijun_sen','tenkan_sen', 'chikou_span','trade']].tail(300)\n",
    "    \n",
    "#     tmp.index = tmp['time']\n",
    "#     del tmp['time']\n",
    "    \n",
    "#     a1 = tmp.plot(figsize=(15,10))\n",
    "#     a1.fill_between(tmp.index, tmp.senkou_span_a, tmp.senkou_span_b);\n",
    "    \n",
    "    "
   ]
  },
  {
   "cell_type": "markdown",
   "metadata": {},
   "source": [
    "____\n",
    "____\n",
    "# TODO \n",
    "\n",
    "#### (move this cell to above the next step to be completed)\n",
    "\n",
    "____\n",
    "____"
   ]
  },
  {
   "cell_type": "markdown",
   "metadata": {},
   "source": [
    "## Create portfolio"
   ]
  },
  {
   "cell_type": "code",
   "execution_count": 15,
   "metadata": {},
   "outputs": [],
   "source": [
    "# Check ichi signals on the 1 hour timeframe.\n",
    "# Create a list of coins to be included.\n",
    "\n",
    "def create_portfolio(exchange, interval):   #TODO\n",
    "                                            # interval set to 1h unless \n",
    "                                            # MAXIMUM_PORTFOLIO_SIZE has been reached,\n",
    "                                            # then resample to 4h. \n",
    "    portfolio = []\n",
    "    df = {}\n",
    "    \n",
    "    coinlist = ticker(exchange).symbol.tolist()\n",
    "    print('Checking on ' + str(len(coinlist)) + ' coins.')\n",
    "    \n",
    "    for coin in coinlist:\n",
    "        \n",
    "        try:\n",
    "            \n",
    "            df = check_coin(exchange, coin, interval)\n",
    "            \n",
    "            if df['condition'][-1:].values == 'buy':\n",
    "                portfolio.append(coin)\n",
    "                print('Added ' + coin + ' to portfolio.')\n",
    "            else: \n",
    "                pass\n",
    "\n",
    "        except:\n",
    "            print(coin + ' is not availalbe.')\n",
    "        \n",
    "#         if df['condition'][-1:].values == 'buy':\n",
    "#             portfolio.append(coin)\n",
    "#             print('Added ' + coin + ' to portfolio.')\n",
    "\n",
    "    return portfolio"
   ]
  },
  {
   "cell_type": "markdown",
   "metadata": {},
   "source": [
    "## Optimize portfolio\n",
    "\n",
    "The plan here is to maximize the portolio proformance based on the probability that a \n",
    "stong trend will continue.\n",
    "\n",
    "Do this by checking the ichi signals on a second (Higher) timeframes and sorting by \n",
    "those that are on both timeframes and truncate the list at the `MAXIMUM_PORTFOLIO_SIZE`.\n",
    "\n",
    "The coins that are on both timeframes with be at the top of the list while the others will be lower."
   ]
  },
  {
   "cell_type": "code",
   "execution_count": 16,
   "metadata": {},
   "outputs": [],
   "source": [
    "# Could combine or included in 'create_portfolio' function.\n",
    "\n",
    "def optimize_portfolio(portfolio):\n",
    "    print(f\"Portfolio has {len(portfolio)} coins in it.\")\n",
    "    if len(portfolio) >= MAXIMUM_PORTFOLIO_SIZE + 1:\n",
    "        # create_portfolio(exchange, '4h')\n",
    "        print(\"That's too many\")"
   ]
  },
  {
   "cell_type": "markdown",
   "metadata": {},
   "source": [
    "## Distribute Portfolio Allocations\n",
    "Could combine or included in `create_portfolio` function.\n"
   ]
  },
  {
   "cell_type": "code",
   "execution_count": 17,
   "metadata": {},
   "outputs": [],
   "source": [
    "# Distributes coins evenly and takes into account 'BNB' coin to reduce trade fees.\n",
    "\n",
    "def distribute_allocations(coins):\n",
    "    \n",
    "    # create empty list\n",
    "    allocations = []\n",
    "    coins_plus = []\n",
    "    \n",
    "    # remove duplicates and turn all coins to uppercase\n",
    "    coins = list(dict.fromkeys([x.upper() for x in coins]))\n",
    "    \n",
    "    #TODO\n",
    "    \n",
    "    # if len(coins) > coin_limit:\n",
    "    #   coins = limit_coins(coins)\n",
    "        \n",
    "    \n",
    "    # code if 'BNB' is in the list\n",
    "    if 'BNB' in coins:\n",
    "        a = round(100/len(coins),2)\n",
    "        r = round(100 - a * len(coins),2)\n",
    "    \n",
    "        # loop through the coins in the list\n",
    "        for i in coins:\n",
    "            \n",
    "            # Special rules for 'BNB'\n",
    "            if 'BNB' in coins:\n",
    "                if i == 'BNB':\n",
    "                    b = {\"symbol\" : i , \"percent\" : round((a + r),2) }\n",
    "                    allocations.append(b)\n",
    "\n",
    "                else:    \n",
    "                    b = {\"symbol\" : i , \"percent\" : a }\n",
    "                    allocations.append(b)\n",
    "\n",
    "    # code if 'BNB' is NOT in the list\n",
    "    if 'BNB' not in coins:\n",
    "#         a = round(100/len(coins),2)\n",
    "#         r = round(100 - a * len(coins),2)\n",
    "        \n",
    "        if r == 0:\n",
    "            coins_plus = coins\n",
    "            coinscoins_plus.append('BNB')\n",
    "        \n",
    "#         if r == 0:\n",
    "#             a = round(97/len(coins),2)\n",
    "#             r = round(97 - a * len(coins),2)\n",
    "        \n",
    "        # add 'r' amount of 'BNB' to list before looping\n",
    "        allocations.append({\"symbol\" : 'BNB' , \"percent\" : r + 3})\n",
    "        \n",
    "        # loop through the coins in the list\n",
    "        for i in coins_plus:\n",
    "            b = {\"symbol\" : i , \"percent\" : a }\n",
    "            allocations.append(b) \n",
    "\n",
    "    print(a*len(coins)+r, r)\n",
    "          \n",
    "    return allocations\n",
    "    \n",
    "    #if remander is not 0:\n",
    "        "
   ]
  },
  {
   "cell_type": "markdown",
   "metadata": {},
   "source": [
    "____"
   ]
  },
  {
   "cell_type": "markdown",
   "metadata": {},
   "source": [
    "# Sending it all to Shrimpy"
   ]
  },
  {
   "cell_type": "markdown",
   "metadata": {},
   "source": [
    "## Creating and Signing a Request\n",
    "https://developers.shrimpy.io/docs/#creating-a-request\n",
    "\n",
    "https://developers.shrimpy.io/docs/#signing-a-request"
   ]
  },
  {
   "cell_type": "code",
   "execution_count": 18,
   "metadata": {},
   "outputs": [
    {
     "ename": "Error",
     "evalue": "Incorrect padding",
     "output_type": "error",
     "traceback": [
      "\u001b[0;31m---------------------------------------------------------------------------\u001b[0m",
      "\u001b[0;31mError\u001b[0m                                     Traceback (most recent call last)",
      "\u001b[0;32m<ipython-input-18-a839b7e99ab4>\u001b[0m in \u001b[0;36m<module>\u001b[0;34m\u001b[0m\n\u001b[1;32m     12\u001b[0m \u001b[0msignurl\u001b[0m \u001b[0;34m=\u001b[0m \u001b[0;34m(\u001b[0m\u001b[0mendpoint\u001b[0m \u001b[0;34m+\u001b[0m \u001b[0;34m'GET'\u001b[0m\u001b[0;34m+\u001b[0m\u001b[0mnonce\u001b[0m\u001b[0;34m)\u001b[0m\u001b[0;34m.\u001b[0m\u001b[0mencode\u001b[0m\u001b[0;34m(\u001b[0m\u001b[0;34m'utf-8'\u001b[0m\u001b[0;34m)\u001b[0m\u001b[0;34m\u001b[0m\u001b[0;34m\u001b[0m\u001b[0m\n\u001b[1;32m     13\u001b[0m \u001b[0;34m\u001b[0m\u001b[0m\n\u001b[0;32m---> 14\u001b[0;31m \u001b[0msigning\u001b[0m \u001b[0;34m=\u001b[0m \u001b[0mhmac\u001b[0m\u001b[0;34m.\u001b[0m\u001b[0mnew\u001b[0m\u001b[0;34m(\u001b[0m\u001b[0mbase64\u001b[0m\u001b[0;34m.\u001b[0m\u001b[0mb64decode\u001b[0m\u001b[0;34m(\u001b[0m\u001b[0msecret\u001b[0m\u001b[0;34m)\u001b[0m\u001b[0;34m,\u001b[0m \u001b[0msignurl\u001b[0m \u001b[0;34m,\u001b[0m \u001b[0mhashlib\u001b[0m\u001b[0;34m.\u001b[0m\u001b[0msha256\u001b[0m\u001b[0;34m)\u001b[0m\u001b[0;34m\u001b[0m\u001b[0;34m\u001b[0m\u001b[0m\n\u001b[0m\u001b[1;32m     15\u001b[0m \u001b[0;34m\u001b[0m\u001b[0m\n\u001b[1;32m     16\u001b[0m \u001b[0msigning_b64\u001b[0m \u001b[0;34m=\u001b[0m \u001b[0mbase64\u001b[0m\u001b[0;34m.\u001b[0m\u001b[0mb64encode\u001b[0m\u001b[0;34m(\u001b[0m\u001b[0msigning\u001b[0m\u001b[0;34m.\u001b[0m\u001b[0mdigest\u001b[0m\u001b[0;34m(\u001b[0m\u001b[0;34m)\u001b[0m\u001b[0;34m)\u001b[0m\u001b[0;34m.\u001b[0m\u001b[0mdecode\u001b[0m\u001b[0;34m(\u001b[0m\u001b[0;34m'utf-8'\u001b[0m\u001b[0;34m)\u001b[0m\u001b[0;34m\u001b[0m\u001b[0;34m\u001b[0m\u001b[0m\n",
      "\u001b[0;32m/Library/Frameworks/Python.framework/Versions/3.7/lib/python3.7/base64.py\u001b[0m in \u001b[0;36mb64decode\u001b[0;34m(s, altchars, validate)\u001b[0m\n\u001b[1;32m     85\u001b[0m     \u001b[0;32mif\u001b[0m \u001b[0mvalidate\u001b[0m \u001b[0;32mand\u001b[0m \u001b[0;32mnot\u001b[0m \u001b[0mre\u001b[0m\u001b[0;34m.\u001b[0m\u001b[0mmatch\u001b[0m\u001b[0;34m(\u001b[0m\u001b[0;34mb'^[A-Za-z0-9+/]*={0,2}$'\u001b[0m\u001b[0;34m,\u001b[0m \u001b[0ms\u001b[0m\u001b[0;34m)\u001b[0m\u001b[0;34m:\u001b[0m\u001b[0;34m\u001b[0m\u001b[0;34m\u001b[0m\u001b[0m\n\u001b[1;32m     86\u001b[0m         \u001b[0;32mraise\u001b[0m \u001b[0mbinascii\u001b[0m\u001b[0;34m.\u001b[0m\u001b[0mError\u001b[0m\u001b[0;34m(\u001b[0m\u001b[0;34m'Non-base64 digit found'\u001b[0m\u001b[0;34m)\u001b[0m\u001b[0;34m\u001b[0m\u001b[0;34m\u001b[0m\u001b[0m\n\u001b[0;32m---> 87\u001b[0;31m     \u001b[0;32mreturn\u001b[0m \u001b[0mbinascii\u001b[0m\u001b[0;34m.\u001b[0m\u001b[0ma2b_base64\u001b[0m\u001b[0;34m(\u001b[0m\u001b[0ms\u001b[0m\u001b[0;34m)\u001b[0m\u001b[0;34m\u001b[0m\u001b[0;34m\u001b[0m\u001b[0m\n\u001b[0m\u001b[1;32m     88\u001b[0m \u001b[0;34m\u001b[0m\u001b[0m\n\u001b[1;32m     89\u001b[0m \u001b[0;34m\u001b[0m\u001b[0m\n",
      "\u001b[0;31mError\u001b[0m: Incorrect padding"
     ]
    }
   ],
   "source": [
    "# # snipet from shrimpy reddit\n",
    "# https://www.reddit.com/r/ShrimpyApp/comments/be6o26/shrimpy_api_python_36/\n",
    "    \n",
    "import requests, json, time, datetime, base64, hmac, hashlib\n",
    "\n",
    "key = 'keykeykeykeykeykeykeykeykeykeykeykey'\n",
    "secret = 'secretsecretsecretsecretsecretsecretsecretsecretsecretsecretsecretsecretsecretsecretsecretsecretsecret'\n",
    "nonce = str(int(time.time()))\n",
    "\n",
    "endpoint = '/v1/accounts/'\n",
    "\n",
    "signurl = (endpoint + 'GET'+nonce).encode('utf-8')\n",
    "\n",
    "signing = hmac.new(base64.b64decode(secret), signurl , hashlib.sha256)\n",
    "\n",
    "signing_b64 = base64.b64encode(signing.digest()).decode('utf-8')\n",
    "\n",
    "header = {'content-type': 'application/json', \n",
    "          'SHRIMPY-API-KEY': key,\n",
    "            'SHRIMPY-API-NONCE' : nonce,\n",
    "            'SHRIMPY-API-SIGNATURE': signing_b64 }\n",
    "\n",
    "\n",
    "r = requests.get('https://api.shrimpy.io' + endpoint, headers = header)\n",
    "print(r)\n",
    "print(r.text)"
   ]
  },
  {
   "cell_type": "markdown",
   "metadata": {},
   "source": [
    "____"
   ]
  },
  {
   "cell_type": "markdown",
   "metadata": {},
   "source": [
    "# See if it works."
   ]
  },
  {
   "cell_type": "markdown",
   "metadata": {},
   "source": [
    "## Build Backtest\n",
    "\n",
    "To run a backtest on each iteration of the portolios (changing often), a list of \n",
    "optimized porfolios must be created with `startTime` and `endTime` values.\n",
    "Use the last `usdValue` as the `initialValue` for the next iteration."
   ]
  },
  {
   "cell_type": "code",
   "execution_count": 49,
   "metadata": {},
   "outputs": [
    {
     "data": {
      "text/plain": [
       "{'rebalancePeriod': 24,\n",
       " 'fee': '0.1',\n",
       " 'startTime': '2018-05-19T00:00:00.000Z',\n",
       " 'endTime': '2018-11-02T00:00:00.000Z',\n",
       " 'initialValue': '5000.0',\n",
       " 'allocations': [{'symbol': 'BTC', 'percent': '50.0'},\n",
       "  {'symbol': 'ETH', 'percent': '50.0'}]}"
      ]
     },
     "execution_count": 49,
     "metadata": {},
     "output_type": "execute_result"
    }
   ],
   "source": [
    "# Request Body\n",
    "\n",
    "{\n",
    "    \"rebalancePeriod\": 24,\n",
    "    \"fee\": \"0.1\",\n",
    "    \"startTime\": \"2018-05-19T00:00:00.000Z\",\n",
    "    \"endTime\": \"2018-11-02T00:00:00.000Z\",\n",
    "    \"initialValue\": \"5000.0\",\n",
    "    \"allocations\": [\n",
    "        { \"symbol\": \"BTC\", \"percent\": \"50.0\" },\n",
    "        { \"symbol\": \"ETH\", \"percent\": \"50.0\" }\n",
    "    ]\n",
    "}"
   ]
  },
  {
   "cell_type": "markdown",
   "metadata": {},
   "source": [
    "## Run Backtest\n",
    "This endpoint runs a backtest with the supplied settings. \n",
    "This endpoint has a rate limit of __20 requests per minute__."
   ]
  },
  {
   "cell_type": "code",
   "execution_count": null,
   "metadata": {},
   "outputs": [],
   "source": [
    "# HTTP Request\n",
    "# POST https://dev-api.shrimpy.io/v1/analytics/backtest/<exchange>/run"
   ]
  },
  {
   "cell_type": "markdown",
   "metadata": {},
   "source": [
    "____"
   ]
  },
  {
   "cell_type": "markdown",
   "metadata": {},
   "source": [
    "# Next\n",
    "\n",
    "##  Set the Strategy\n",
    "\n",
    "This endpoint sets the strategy for the exchange account. All future rebalance operations will use the new strategy. \n",
    "\n",
    "`portfolio = allocations` in request body"
   ]
  },
  {
   "cell_type": "code",
   "execution_count": null,
   "metadata": {},
   "outputs": [],
   "source": [
    "# HTTP Request\n",
    "# POST https://dev-api.shrimpy.io/v1/users/<userId>/accounts/<exchangeAccountId>/strategy"
   ]
  },
  {
   "cell_type": "markdown",
   "metadata": {},
   "source": [
    "## Set the Rebalance Period\n",
    "This endpoint sets the rebalance period for the specified exchange account. The next rebalance will be scheduled from the current time. For example, it is currently 4PM and a rebalance period of 24 hours is set, the next rebalance operation will occur at 4PM tomorrow."
   ]
  },
  {
   "cell_type": "code",
   "execution_count": null,
   "metadata": {},
   "outputs": [],
   "source": [
    "# HTTP Request\n",
    "# POST https://dev-api.shrimpy.io/v1/users/<userId>/accounts/<exchangeAccountId>/rebalance_period\n",
    "\n",
    "# Set to 1h, but reset to makes sure the proper rebalance period is active.\n"
   ]
  },
  {
   "cell_type": "markdown",
   "metadata": {},
   "source": [
    "## Queue Rebalance\n",
    "This endpoint queues a rebalance for the specified exchange account. When the rebalance occurs, trades will be made so that the linked exchange accounts assets match the current strategy. That is, any assets that are overallocated will be sold and any assets that are underallocated will be purchased."
   ]
  },
  {
   "cell_type": "code",
   "execution_count": null,
   "metadata": {},
   "outputs": [],
   "source": [
    "# HTTP Request\n",
    "# POST https://dev-api.shrimpy.io/v1/users/<userId>/accounts/<exchangeAccountId>/rebalance"
   ]
  },
  {
   "cell_type": "markdown",
   "metadata": {},
   "source": [
    "## Get Balance\n",
    "This endpoint retrieves detailed balance data for an exchange account. By default, the most recent balance is returned. Balance is retrieved from the exchange every 15 minutes for each account, as well as immediately after rebalance operations and trade operations."
   ]
  },
  {
   "cell_type": "code",
   "execution_count": null,
   "metadata": {},
   "outputs": [],
   "source": [
    "# HTTP Request\n",
    "# GET https://dev-api.shrimpy.io/v1/users/<userId>/accounts/<exchangeAccountId>/balance"
   ]
  },
  {
   "cell_type": "markdown",
   "metadata": {},
   "source": [
    "____"
   ]
  },
  {
   "cell_type": "markdown",
   "metadata": {},
   "source": [
    "# Additional features / thoughts\n",
    "\n",
    "## Sorting portfolio\n",
    "\n",
    "    Consider another metric to sort the optimized portfolio.\n",
    "        - OBV On by Volume\n",
    "        - ATR Average true Range\n",
    "        - ADX Average Directional Index\n",
    "        - Stochastics\n",
    "        - **other**\n",
    "        \n",
    "    When to quote in USD (or stable coin) vs. BTC\n",
    "        if BTC_uptrend:\n",
    "         quote = USDT\n",
    "        elif BTC_downtend:\n",
    "         quote = BTC\n",
    "        else :\n",
    "         quote = [“USDT”, “BTC”]\n",
    "         \n",
    "        Does it really matter?\n",
    "\n",
    "## Notifiers\n",
    "\n",
    "#### Activity\n",
    "\n",
    "    channels:\n",
    "       - text message \n",
    "       - discord \n",
    "       - telegram\n",
    "       \n",
    "    include: (per exchange)\n",
    "        - coins added\n",
    "        - coins removed\n",
    "        - current balance\n",
    "        - balance change (USD and BTC percent and quantity)\n",
    "            - 1 day\n",
    "            - 1 week\n",
    "            - 1 month\n",
    "            - 6 months\n",
    "            - 1 year\n",
    "            - All time\n",
    "        - link to dashboard\n",
    "    \n",
    "#### Social\n",
    "\n",
    "    channels:\n",
    "        - Twitter\n",
    "        - Instagram\n",
    "        \n",
    "    include:\n",
    "        - select high proforming coin from last portfolio\n",
    "        - image of trade\n",
    "        \n",
    "    referal links: ?\n",
    "        - follow via shrimpy\n",
    "        - sign up at exchange\n",
    "      \n",
    "#### System monitors\n",
    "    \n",
    "    channels:\n",
    "       - text message\n",
    "       \n",
    "    include:\n",
    "        - error\n",
    "        - time"
   ]
  },
  {
   "cell_type": "code",
   "execution_count": null,
   "metadata": {},
   "outputs": [],
   "source": []
  },
  {
   "cell_type": "code",
   "execution_count": null,
   "metadata": {},
   "outputs": [],
   "source": []
  }
 ],
 "metadata": {
  "kernelspec": {
   "display_name": "Python 3",
   "language": "python",
   "name": "python3"
  },
  "language_info": {
   "codemirror_mode": {
    "name": "ipython",
    "version": 3
   },
   "file_extension": ".py",
   "mimetype": "text/x-python",
   "name": "python",
   "nbconvert_exporter": "python",
   "pygments_lexer": "ipython3",
   "version": "3.7.2"
  }
 },
 "nbformat": 4,
 "nbformat_minor": 2
}
