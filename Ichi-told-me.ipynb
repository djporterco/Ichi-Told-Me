{
 "cells": [
  {
   "cell_type": "markdown",
   "metadata": {},
   "source": [
    "# Ichi Told Me\n",
    "\n",
    "### Assumptions:\n",
    "\n",
    "It is difficult to catch every top and bottom of a market.\n",
    ">That is where the smart money is shaking out the weak hands.           https://www.youtube.com/watch?v=TzKQwttv9IA\n",
    "\n",
    "Ichimoku is a full fleged trading system.\n",
    ">The cloud system is designed to capturing 80% of price movements (I.e. 80/20 rule)\n",
    "https://www.linkedin.com/pulse/ichimoku-cloud-jonathan-camphin/\n",
    "\n",
    "Rebalancing preforms ~63% better than HODL on trending and ranging markets.\n",
    "\n",
    "AND\n",
    ">Rebalancing once every hour resulted in a median portfolio performance boost of 94% over buy-and-hold. 83.0% of all portfolios which used hourly rebalances performed better than buy-and-hold.\n",
    "https://blog.shrimpy.io/blog/cryptocurrency-portfolio-rebalancing-bittrex-analysis\n",
    "\n",
    "AND\n",
    "\n",
    ">A 15% threshold rebalance outperformed HODL by 305%.\n",
    "https://blog.shrimpy.io/blog/the-best-threshold-for-cryptocurrency-rebalancing-strategies\n",
    "\n",
    "### Goal:\n",
    "\n",
    "__Identify strong to medium Ichimoku signals on a 1 hour timeframe to create dynamic portfolios that can be rebalanced hourly or at a percent deviation threshold on https://www.shrimpy.io/.__\n",
    "\n",
    "### Tools:\n",
    "\n",
    "#### Languages: \n",
    "Python\n",
    "\n",
    "#### Visuals:\n",
    "DASH by Plotly https://dash.plot.ly\n",
    "\n",
    "#### APIs: \n",
    "Shrimpy Developer API  https://developers.shrimpy.io/docs/#introduction\n",
    "\n",
    "#### Deployment:\n",
    "[DigitalOcean](https://www.digitalocean.com/) or [Vultr](https://www.vultr.com/) servers."
   ]
  },
  {
   "cell_type": "markdown",
   "metadata": {},
   "source": [
    "____"
   ]
  },
  {
   "cell_type": "markdown",
   "metadata": {},
   "source": [
    "## RULES\n",
    "\n",
    "These rules are more conservative than most and are designed to nearly eliminate false\n",
    "signals.\n",
    "\n",
    "https://www.youtube.com/watch?v=X5lxBTrN-Yk&t=1318s\n",
    "\n",
    "    CLOSE ABOVE CLOUD\n",
    "    Close > Kijun_Sen & Close > Tenkan_Sen \n",
    "    \n",
    "    CONVERSION LINE IS GREATER THAN BASE LINE\n",
    "    Tenkan_Sen > Kijun_Sen\n",
    "    \n",
    "    *KEY\n",
    "    CLOUD AHEAD IS BULLISH (GREEN) *look displacement ahead\n",
    "    cloud.shift(displacement) == green \n",
    "    \n",
    "    *KEY\n",
    "    LAGGIN SPAN IS GREATER OR CROSSES ABOVE CLOUD  *look displacement behind\n",
    "    Chikou_Span > cloud.shift(-displacement)"
   ]
  },
  {
   "cell_type": "markdown",
   "metadata": {},
   "source": [
    "____"
   ]
  },
  {
   "cell_type": "markdown",
   "metadata": {},
   "source": [
    "# TODO \n",
    "\n",
    "#### (move this cell to above the next step to be completed)"
   ]
  },
  {
   "cell_type": "markdown",
   "metadata": {},
   "source": [
    "## Get Supported Exchanges\n",
    "Only required when scaling to other exchanges."
   ]
  },
  {
   "cell_type": "code",
   "execution_count": 26,
   "metadata": {},
   "outputs": [],
   "source": [
    "# HTTP Request\n",
    "# GET https://dev-api.shrimpy.io/v1/list_exchanges\n",
    "\n",
    "def list_exchanges():\n",
    "    res = requests.get(\"https://dev-api.shrimpy.io/v1/list_exchanges\")\n",
    "    return json_normalize(res.json())"
   ]
  },
  {
   "cell_type": "markdown",
   "metadata": {},
   "source": [
    "## Get Trading Pairs\n",
    "\n",
    "Pick and exchange to start with.\n",
    "Binance is popular and has a lot of trading volume and pairs.\n",
    "However, Binance like someother exchanges, will discontinue service to US customers soon.\n",
    "https://www.theblockcrypto.com/2019/06/14/us-customers-to-be-blocked-from-trading-on-binance-com/"
   ]
  },
  {
   "cell_type": "code",
   "execution_count": null,
   "metadata": {},
   "outputs": [],
   "source": [
    "# HTTP Request\n",
    "# GET https://dev-api.shrimpy.io/v1/exchanges/<exchange>/trading_pairs"
   ]
  },
  {
   "cell_type": "markdown",
   "metadata": {},
   "source": [
    "## Get Candles"
   ]
  },
  {
   "cell_type": "code",
   "execution_count": 7,
   "metadata": {},
   "outputs": [],
   "source": [
    "# HTTP Request\n",
    "# GET https://dev-api.shrimpy.io/v1/exchanges/<exchange>/candles\n",
    "\n",
    "def candles(exchange, quoteTradingSymbol, baseTradingSymbol, interval):\n",
    "    response = requests.get(f\"https://dev-api.shrimpy.io/v1/exchanges/{exchange}/candles?quoteTradingSymbol={quoteTradingSymbol}&baseTradingSymbol={baseTradingSymbol}&interval={interval}\")\n",
    "    return json_normalize(response.json())"
   ]
  },
  {
   "cell_type": "markdown",
   "metadata": {},
   "source": [
    "## Create Ichimoku data points\n",
    "\n",
    "Unique to the Ichimoku system is that part of the signal is projected ahead in time."
   ]
  },
  {
   "cell_type": "code",
   "execution_count": null,
   "metadata": {},
   "outputs": [],
   "source": [
    "# From stackoverflow\n",
    "\n",
    "# Needs adjusted to accept 'crypto' settings\n",
    "\n",
    "# TODO\n",
    "#     build ability to adjust settings based on argument i.e. \n",
    "#         if settings == 'default':\n",
    "#             t1=9, t2=26, t3=52,\n",
    "#         elif settings == 'crytpo':\n",
    "#             t1=10, t2=30, t3=60,\n",
    "#         else:\n",
    "#             t1=20, t2=60, t3=120\n",
    "\n",
    "# Turn into function\n",
    "\n",
    "\n",
    "from datetime import timedelta\n",
    "\n",
    "high_9 = df['high'].rolling(window= 9).max()\n",
    "low_9 = df['low'].rolling(window= 9).min()\n",
    "df['tenkan_sen'] = (high_9 + low_9) /2\n",
    "\n",
    "high_26 = df['high'].rolling(window= 26).max()\n",
    "low_26 = df['low'].rolling(window= 26).min()\n",
    "df['kijun_sen'] = (high_26 + low_26) /2\n",
    "\n",
    "# this is to extend the 'df' in future for 26 days\n",
    "# the 'df' here is numerical indexed df\n",
    "last_index = df.iloc[-1:].index[0]\n",
    "last_date = pd.to_datetime(df['time']).iloc[-1]\n",
    "for i in range(26):\n",
    "    df.loc[last_index+1 +i, 'Date'] = last_date + timedelta(days=i)\n",
    "\n",
    "df['senkou_span_a'] = ((df['tenkan_sen'] + df['kijun_sen']) / 2).shift(26)\n",
    "\n",
    "high_52 = df['high'].rolling(window= 52).max()\n",
    "low_52 = df['low'].rolling(window= 52).min()\n",
    "df['senkou_span_b'] = ((high_52 + low_52) /2).shift(26)\n",
    "\n",
    "# most charting softwares dont plot this line\n",
    "df['chikou_span'] = df['close'].shift(-22) #sometimes -26 \n",
    "\n",
    "# TODO\n",
    "#     Edit fill to represent bullish (green) and bearish (red) clouds \n",
    "#     between the leading spans.\n",
    "\n",
    "tmp = df[['close','senkou_span_a','senkou_span_b','kijun_sen','tenkan_sen', 'chikou_span']].tail(300)\n",
    "a1 = tmp.plot(figsize=(15,10))\n",
    "a1.fill_between(tmp.index, tmp.senkou_span_a, tmp.senkou_span_b);"
   ]
  },
  {
   "cell_type": "markdown",
   "metadata": {},
   "source": [
    "## Create portfolio"
   ]
  },
  {
   "cell_type": "code",
   "execution_count": null,
   "metadata": {},
   "outputs": [],
   "source": [
    "# Check ichi signals on the 1 hour timeframe.\n",
    "# Create a list of coins to be included.\n",
    "\n",
    "def create_portfolio(exchange, interval):   #TODO\n",
    "                                            # interval set to 1h unless \n",
    "                                            # MAXIMUM_PORTFOLIO_SIZE has been reached,\n",
    "                                            # then resample to 4h. \n",
    "    portfolio = []\n",
    "    df = {}\n",
    "    \n",
    "    coinlist = ticker(exchange).symbol.tolist()\n",
    "    print('Checking on ' + str(len(coinlist)) + ' coins.')\n",
    "    \n",
    "    for coin in coinlist:\n",
    "        \n",
    "        try:\n",
    "            \n",
    "            df = check_coin(exchange, coin, interval)\n",
    "            \n",
    "            if df['condition'][-1:].values == 'buy':\n",
    "                portfolio.append(coin)\n",
    "                print('Added ' + coin + ' to portfolio.')\n",
    "            else: \n",
    "                pass\n",
    "\n",
    "        except:\n",
    "            print(coin + ' is not availalbe.')\n",
    "        \n",
    "#         if df['condition'][-1:].values == 'buy':\n",
    "#             portfolio.append(coin)\n",
    "#             print('Added ' + coin + ' to portfolio.')\n",
    "\n",
    "    return portfolio"
   ]
  },
  {
   "cell_type": "markdown",
   "metadata": {},
   "source": [
    "## Optimize portfolio\n",
    "\n",
    "The plan here is to maximize the portolio proformance based on the probability that a \n",
    "stong trend will continue.\n",
    "\n",
    "Do this by checking the ichi signals on a second (Higher) timeframes and sorting by \n",
    "those that are on both timeframes and truncate the list at the `MAXIMUM_PORTFOLIO_SIZE`.\n",
    "\n",
    "The coins that are on both timeframes with be at the top of the list while the others will be lower."
   ]
  },
  {
   "cell_type": "code",
   "execution_count": null,
   "metadata": {},
   "outputs": [],
   "source": [
    "# Could combine or included in 'create_portfolio' function.\n",
    "\n",
    "def optimize_portfolio(portfolio):\n",
    "    print(f\"Portfolio has {len(portfolio)} coins in it.\")\n",
    "    if len(portfolio) >= MAXIMUM_PORTFOLIO_SIZE + 1:\n",
    "        # create_portfolio(exchange, '4h')\n",
    "        print(\"That's too many\")"
   ]
  },
  {
   "cell_type": "markdown",
   "metadata": {},
   "source": [
    "## Distribute Portfolio Allocations\n",
    "Could combine or included in `create_portfolio` function.\n"
   ]
  },
  {
   "cell_type": "code",
   "execution_count": null,
   "metadata": {},
   "outputs": [],
   "source": [
    "# Distributes coins evenly and takes into account 'BNB' coin to reduce trade fees.\n",
    "\n",
    "def distribute_allocations(coins):\n",
    "    \n",
    "    # create empty list\n",
    "    allocations = []\n",
    "    coins_plus = []\n",
    "    \n",
    "    # remove duplicates and turn all coins to uppercase\n",
    "    coins = list(dict.fromkeys([x.upper() for x in coins]))\n",
    "    \n",
    "    #TODO\n",
    "    \n",
    "    # if len(coins) > coin_limit:\n",
    "    #   coins = limit_coins(coins)\n",
    "        \n",
    "    \n",
    "    # code if 'BNB' is in the list\n",
    "    if 'BNB' in coins:\n",
    "        a = round(100/len(coins),2)\n",
    "        r = round(100 - a * len(coins),2)\n",
    "    \n",
    "        # loop through the coins in the list\n",
    "        for i in coins:\n",
    "            \n",
    "            # Special rules for 'BNB'\n",
    "            if 'BNB' in coins:\n",
    "                if i == 'BNB':\n",
    "                    b = {\"symbol\" : i , \"percent\" : round((a + r),2) }\n",
    "                    allocations.append(b)\n",
    "\n",
    "                else:    \n",
    "                    b = {\"symbol\" : i , \"percent\" : a }\n",
    "                    allocations.append(b)\n",
    "\n",
    "    # code if 'BNB' is NOT in the list\n",
    "    if 'BNB' not in coins:\n",
    "#         a = round(100/len(coins),2)\n",
    "#         r = round(100 - a * len(coins),2)\n",
    "        \n",
    "        if r == 0:\n",
    "            coins_plus = coins\n",
    "            coinscoins_plus.append('BNB')\n",
    "        \n",
    "#         if r == 0:\n",
    "#             a = round(97/len(coins),2)\n",
    "#             r = round(97 - a * len(coins),2)\n",
    "        \n",
    "        # add 'r' amount of 'BNB' to list before looping\n",
    "        allocations.append({\"symbol\" : 'BNB' , \"percent\" : r + 3})\n",
    "        \n",
    "        # loop through the coins in the list\n",
    "        for i in coins_plus:\n",
    "            b = {\"symbol\" : i , \"percent\" : a }\n",
    "            allocations.append(b) \n",
    "\n",
    "    print(a*len(coins)+r, r)\n",
    "          \n",
    "    return allocations\n",
    "    \n",
    "    #if remander is not 0:\n",
    "        "
   ]
  },
  {
   "cell_type": "markdown",
   "metadata": {},
   "source": [
    "____"
   ]
  },
  {
   "cell_type": "markdown",
   "metadata": {},
   "source": [
    "# Sending it all to Shrimpy"
   ]
  },
  {
   "cell_type": "markdown",
   "metadata": {},
   "source": [
    "## Creating and Signing a Request\n",
    "https://developers.shrimpy.io/docs/#creating-a-request\n",
    "\n",
    "https://developers.shrimpy.io/docs/#signing-a-request"
   ]
  },
  {
   "cell_type": "code",
   "execution_count": null,
   "metadata": {},
   "outputs": [],
   "source": [
    "# # snipet from shrimpy reddit\n",
    "# https://www.reddit.com/r/ShrimpyApp/comments/be6o26/shrimpy_api_python_36/\n",
    "    \n",
    "import requests, json, time, datetime, base64, hmac, hashlib\n",
    "\n",
    "key = 'keykeykeykeykeykeykeykeykeykeykeykey'\n",
    "secret = 'secretsecretsecretsecretsecretsecretsecretsecretsecretsecretsecretsecretsecretsecretsecretsecretsecret'\n",
    "nonce = str(int(time.time()))\n",
    "\n",
    "endpoint = '/v1/accounts/'\n",
    "\n",
    "signurl = (endpoint + 'GET'+nonce).encode('utf-8')\n",
    "\n",
    "signing = hmac.new(base64.b64decode(secret), signurl , hashlib.sha256)\n",
    "\n",
    "signing_b64 = base64.b64encode(signing.digest()).decode('utf-8')\n",
    "\n",
    "header = {'content-type': 'application/json', \n",
    "          'SHRIMPY-API-KEY': key,\n",
    "            'SHRIMPY-API-NONCE' : nonce,\n",
    "            'SHRIMPY-API-SIGNATURE': signing_b64 }\n",
    "\n",
    "\n",
    "r = requests.get('https://api.shrimpy.io' + endpoint, headers = header)\n",
    "print(r)\n",
    "print(r.text)"
   ]
  },
  {
   "cell_type": "markdown",
   "metadata": {},
   "source": [
    "____"
   ]
  },
  {
   "cell_type": "markdown",
   "metadata": {},
   "source": [
    "# See if it works.\n",
    "\n",
    "## Run Backtest\n",
    "This endpoint runs a backtest with the supplied settings. \n",
    "This endpoint has a rate limit of __20 requests per minute__."
   ]
  },
  {
   "cell_type": "markdown",
   "metadata": {},
   "source": [
    "To run a backtest on each iteration of the portolios (changing often), a list of \n",
    "optimized porfolios must be created with `startTime` and `endTime` values.\n",
    "Use the last `usdValue` as the `initialValue` for the next iteration."
   ]
  },
  {
   "cell_type": "code",
   "execution_count": 35,
   "metadata": {},
   "outputs": [],
   "source": [
    "# HTTP Request\n",
    "# POST https://dev-api.shrimpy.io/v1/analytics/backtest/<exchange>/run"
   ]
  },
  {
   "cell_type": "markdown",
   "metadata": {},
   "source": [
    "____"
   ]
  },
  {
   "cell_type": "markdown",
   "metadata": {},
   "source": [
    "# Next\n",
    "\n",
    "##  Set the Strategy\n",
    "\n",
    "This endpoint sets the strategy for the exchange account. All future rebalance operations will use the new strategy. \n",
    "\n",
    "`portfolio = allocations` in request body"
   ]
  },
  {
   "cell_type": "code",
   "execution_count": 32,
   "metadata": {},
   "outputs": [],
   "source": [
    "# HTTP Request\n",
    "# POST https://dev-api.shrimpy.io/v1/users/<userId>/accounts/<exchangeAccountId>/strategy"
   ]
  },
  {
   "cell_type": "markdown",
   "metadata": {},
   "source": [
    "## Set the Rebalance Period\n",
    "This endpoint sets the rebalance period for the specified exchange account. The next rebalance will be scheduled from the current time. For example, it is currently 4PM and a rebalance period of 24 hours is set, the next rebalance operation will occur at 4PM tomorrow."
   ]
  },
  {
   "cell_type": "code",
   "execution_count": 30,
   "metadata": {},
   "outputs": [],
   "source": [
    "# HTTP Request\n",
    "# POST https://dev-api.shrimpy.io/v1/users/<userId>/accounts/<exchangeAccountId>/rebalance_period\n",
    "\n",
    "# Set to 1h, but reset to makes sure the proper rebalance period is active.\n"
   ]
  },
  {
   "cell_type": "markdown",
   "metadata": {},
   "source": [
    "## Queue Rebalance\n",
    "This endpoint queues a rebalance for the specified exchange account. When the rebalance occurs, trades will be made so that the linked exchange accounts assets match the current strategy. That is, any assets that are overallocated will be sold and any assets that are underallocated will be purchased."
   ]
  },
  {
   "cell_type": "code",
   "execution_count": 14,
   "metadata": {},
   "outputs": [],
   "source": [
    "# HTTP Request\n",
    "# POST https://dev-api.shrimpy.io/v1/users/<userId>/accounts/<exchangeAccountId>/rebalance"
   ]
  },
  {
   "cell_type": "markdown",
   "metadata": {},
   "source": [
    "## Get Balance\n",
    "This endpoint retrieves detailed balance data for an exchange account. By default, the most recent balance is returned. Balance is retrieved from the exchange every 15 minutes for each account, as well as immediately after rebalance operations and trade operations."
   ]
  },
  {
   "cell_type": "code",
   "execution_count": 37,
   "metadata": {},
   "outputs": [],
   "source": [
    "# HTTP Request\n",
    "# GET https://dev-api.shrimpy.io/v1/users/<userId>/accounts/<exchangeAccountId>/balance"
   ]
  },
  {
   "cell_type": "markdown",
   "metadata": {},
   "source": [
    "____"
   ]
  },
  {
   "cell_type": "markdown",
   "metadata": {},
   "source": [
    "# Additional features / thoughts\n",
    "\n",
    "## Sorting portfolio\n",
    "\n",
    "    Consider another metric to sort the optimized portfolio.\n",
    "        - OBV On by Volume\n",
    "        - ATR Average true Range\n",
    "        - ADX Average Directional Index\n",
    "        - Stochastics\n",
    "        - **other**\n",
    "        \n",
    "    When to quote in USD (or stable coin) vs. BTC\n",
    "        if BTC_uptrend:\n",
    "         quote = USDT\n",
    "        elif BTC_downtend:\n",
    "         quote = BTC\n",
    "        else :\n",
    "         quote = [“USDT”, “BTC”]\n",
    "         \n",
    "        Does it really matter?\n",
    "\n",
    "## Notifiers\n",
    "\n",
    "#### Activity\n",
    "\n",
    "    channels:\n",
    "       - text message \n",
    "       - discord \n",
    "       - telegram\n",
    "       \n",
    "    include: (per exchange)\n",
    "        - coins added\n",
    "        - coins removed\n",
    "        - current balance\n",
    "        - balance change (USD and BTC percent and quantity)\n",
    "            - 1 day\n",
    "            - 1 week\n",
    "            - 1 month\n",
    "            - 6 months\n",
    "            - 1 year\n",
    "            - All time\n",
    "        - link to dashboard\n",
    "    \n",
    "#### Social\n",
    "\n",
    "    channels:\n",
    "        - Twitter\n",
    "        - Instagram\n",
    "        \n",
    "    include:\n",
    "        - select high proforming coin from last portfolio\n",
    "        - image of trade\n",
    "        \n",
    "    referal links: ?\n",
    "        - follow via shrimpy\n",
    "        - sign up at exchange\n",
    "      \n",
    "#### System monitors\n",
    "    \n",
    "    channels:\n",
    "       - text message\n",
    "       \n",
    "    include:\n",
    "        - error\n",
    "        - time"
   ]
  },
  {
   "cell_type": "code",
   "execution_count": null,
   "metadata": {},
   "outputs": [],
   "source": []
  },
  {
   "cell_type": "code",
   "execution_count": null,
   "metadata": {},
   "outputs": [],
   "source": []
  }
 ],
 "metadata": {
  "kernelspec": {
   "display_name": "Python 3",
   "language": "python",
   "name": "python3"
  },
  "language_info": {
   "codemirror_mode": {
    "name": "ipython",
    "version": 3
   },
   "file_extension": ".py",
   "mimetype": "text/x-python",
   "name": "python",
   "nbconvert_exporter": "python",
   "pygments_lexer": "ipython3",
   "version": "3.7.2"
  }
 },
 "nbformat": 4,
 "nbformat_minor": 2
}
